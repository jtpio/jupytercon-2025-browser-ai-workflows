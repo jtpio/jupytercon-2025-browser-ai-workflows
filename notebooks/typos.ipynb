{
  "metadata": {
    "kernelspec": {
      "name": "python",
      "display_name": "Python (Pyodide)",
      "language": "python"
    },
    "language_info": {
      "codemirror_mode": {
        "name": "python",
        "version": 3
      },
      "file_extension": ".py",
      "mimetype": "text/x-python",
      "name": "python",
      "nbconvert_exporter": "python",
      "pygments_lexer": "ipython3",
      "version": "3.8"
    }
  },
  "nbformat_minor": 4,
  "nbformat": 4,
  "cells": [
    {
      "cell_type": "markdown",
      "source": "# Customer Data Analysis Notbook\n\nThis notbook explores a dataset of customer purchaces. The goal is to understand buying patterns and identify key segments. Note that this contains several intentional typos in the markdown text for demonstration purposes.\n\nWe'll cover:\n- Data loading and prepation\n- Exploratory data analysis\n- Data vizualization\n- Key insights and recomendations",
      "metadata": {}
    },
    {
      "cell_type": "code",
      "source": "import pandas as pd\nimport numpy as np\nimport matplotlib.pyplot as plt\nimport seaborn as sns\n\n# Load the dataset\n# Note: This will fail since the file doesn't exist, but the code is syntactically correct\ndf = pd.read_csv('customer_data.csv')\n\n# Display basic info\ndf.info()\ndf.head()",
      "metadata": {
        "trusted": true
      },
      "outputs": [],
      "execution_count": null
    },
    {
      "cell_type": "markdown",
      "source": "## Data Preperation\n\nFirst we need to clean and prepare the data:\n1. Handle missing values in the age and income columns\n2. Convert the purchase_date to a datetime object\n3. Remove duplicate customer records\n4. Standardize categorical variables like 'customer_tier'\n\nLet's check for missing values first:",
      "metadata": {}
    },
    {
      "cell_type": "code",
      "source": "# Check for missing values\nmissing_values = df.isnull().sum()\nprint(\"Missing values per column:\")\nprint(missing_values[missing_values > 0])\n\n# Fill missing numerical values with median\nfor col in ['age', 'income']:\n    if col in df.columns:\n        df[col].fillna(df[col].median(), inplace=True)\n\n# Convert date column\ndf['purchase_date'] = pd.to_datetime(df['purchase_date'])",
      "metadata": {
        "trusted": true
      },
      "outputs": [],
      "execution_count": null
    },
    {
      "cell_type": "markdown",
      "source": "## Exploratory Analysis\n\nNow let's explore the data to understand:\n- The distribution of customer ages\n- Purchase frequency by customer tier\n- Correlations between spending and demographics\n- Any unusual patterns or outliers\n\nWe'll start with some basic statistics and then create visualizations:",
      "metadata": {}
    },
    {
      "cell_type": "code",
      "source": "# Basic statistics\ndesc_stats = df.describe(include='all')\ndesc_stats\n\n# Age distribution\nplt.figure(figsize=(10, 6))\nsns.histplot(df['age'], kde=True)\nplt.title('Age Distribution of Customers')\nplt.xlabel('Age')\nplt.ylabel('Frequency')\nplt.show()\n\n# Spending by customer tier\nif 'customer_tier' in df.columns:\n    plt.figure(figsize=(10, 6))\n    sns.boxplot(x='customer_tier', y='total_spend', data=df)\n    plt.title('Spending by Customer Tier')\n    plt.show()",
      "metadata": {
        "trusted": true
      },
      "outputs": [],
      "execution_count": null
    },
    {
      "cell_type": "markdown",
      "source": "## Key Findings and Recomendations\n\nFrom our analysis, we can make several observations:\n1. The majority of customers fall in the 25-45 age range, which should be our primarry target for marketing\n2. There's a strong correlation between income level and total spending (correlation coeficient of 0.72)\n3. Premium tier customers account for 60% of total revenue despite being only 20% of the customer base\n4. There are several outliers in the spending data that warrent further investigation\n\nBased on these findings, we recomend:\n- Creating targeted campaigns for the 25-45 age group\n- Developing a loyalty program to upgrade mid-tier customers\n- Investigating the high-spending outliers for potential fraud or special circumstances\n- Allocating more resources to retain premium tier customers",
      "metadata": {}
    }
  ]
}